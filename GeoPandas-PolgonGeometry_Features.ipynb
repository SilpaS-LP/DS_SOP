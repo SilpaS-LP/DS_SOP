{
 "cells": [
  {
   "cell_type": "code",
   "execution_count": 1,
   "id": "35f4a7cc",
   "metadata": {},
   "outputs": [],
   "source": [
    "import geopandas as gpd\n",
    "from shapely.geometry import Polygon, Point"
   ]
  },
  {
   "cell_type": "code",
   "execution_count": 2,
   "id": "323b2320",
   "metadata": {},
   "outputs": [],
   "source": [
    "# Dummy data for demonstration\n",
    "data = {\n",
    "    'ID': [1, 2, 3],\n",
    "    'Name': ['Polygon 1', 'Polygon 2', 'Polygon 3'],\n",
    "    'Geometry': [Polygon([(0, 0), (0, 5), (5, 5), (5, 0)]),\n",
    "                 Polygon([(2, 2), (2, 7), (7, 7), (7, 2)]),\n",
    "                 Polygon([(3, 3), (3, 8), (8, 8), (8, 3)])],\n",
    "    'ServiceCoverage': [0.9, 0.8, 0.95],\n",
    "    'ResourceDistribution': [0.5, 0.7, 0.6],\n",
    "    'MarketData': [1000, 1500, 2000]\n",
    "}"
   ]
  },
  {
   "cell_type": "code",
   "execution_count": 3,
   "id": "c1eb4c40",
   "metadata": {},
   "outputs": [],
   "source": [
    "# Create the DataFrame\n",
    "df = gpd.GeoDataFrame(data)"
   ]
  },
  {
   "cell_type": "code",
   "execution_count": 4,
   "id": "6ccef78c",
   "metadata": {},
   "outputs": [
    {
     "data": {
      "text/html": [
       "<div>\n",
       "<style scoped>\n",
       "    .dataframe tbody tr th:only-of-type {\n",
       "        vertical-align: middle;\n",
       "    }\n",
       "\n",
       "    .dataframe tbody tr th {\n",
       "        vertical-align: top;\n",
       "    }\n",
       "\n",
       "    .dataframe thead th {\n",
       "        text-align: right;\n",
       "    }\n",
       "</style>\n",
       "<table border=\"1\" class=\"dataframe\">\n",
       "  <thead>\n",
       "    <tr style=\"text-align: right;\">\n",
       "      <th></th>\n",
       "      <th>ID</th>\n",
       "      <th>Name</th>\n",
       "      <th>Geometry</th>\n",
       "      <th>ServiceCoverage</th>\n",
       "      <th>ResourceDistribution</th>\n",
       "      <th>MarketData</th>\n",
       "    </tr>\n",
       "  </thead>\n",
       "  <tbody>\n",
       "    <tr>\n",
       "      <th>0</th>\n",
       "      <td>1</td>\n",
       "      <td>Polygon 1</td>\n",
       "      <td>POLYGON ((0 0, 0 5, 5 5, 5 0, 0 0))</td>\n",
       "      <td>0.90</td>\n",
       "      <td>0.5</td>\n",
       "      <td>1000</td>\n",
       "    </tr>\n",
       "    <tr>\n",
       "      <th>1</th>\n",
       "      <td>2</td>\n",
       "      <td>Polygon 2</td>\n",
       "      <td>POLYGON ((2 2, 2 7, 7 7, 7 2, 2 2))</td>\n",
       "      <td>0.80</td>\n",
       "      <td>0.7</td>\n",
       "      <td>1500</td>\n",
       "    </tr>\n",
       "    <tr>\n",
       "      <th>2</th>\n",
       "      <td>3</td>\n",
       "      <td>Polygon 3</td>\n",
       "      <td>POLYGON ((3 3, 3 8, 8 8, 8 3, 3 3))</td>\n",
       "      <td>0.95</td>\n",
       "      <td>0.6</td>\n",
       "      <td>2000</td>\n",
       "    </tr>\n",
       "  </tbody>\n",
       "</table>\n",
       "</div>"
      ],
      "text/plain": [
       "   ID       Name                             Geometry  ServiceCoverage  \\\n",
       "0   1  Polygon 1  POLYGON ((0 0, 0 5, 5 5, 5 0, 0 0))             0.90   \n",
       "1   2  Polygon 2  POLYGON ((2 2, 2 7, 7 7, 7 2, 2 2))             0.80   \n",
       "2   3  Polygon 3  POLYGON ((3 3, 3 8, 8 8, 8 3, 3 3))             0.95   \n",
       "\n",
       "   ResourceDistribution  MarketData  \n",
       "0                   0.5        1000  \n",
       "1                   0.7        1500  \n",
       "2                   0.6        2000  "
      ]
     },
     "execution_count": 4,
     "metadata": {},
     "output_type": "execute_result"
    }
   ],
   "source": [
    "df"
   ]
  },
  {
   "cell_type": "code",
   "execution_count": 5,
   "id": "72a1c0b5",
   "metadata": {},
   "outputs": [],
   "source": [
    "# Feature 1: Market Reach (Coverage Size)\n",
    "df['MarketReach'] = df['Geometry'].apply(lambda x: x.area)"
   ]
  },
  {
   "cell_type": "code",
   "execution_count": 6,
   "id": "cc66869c",
   "metadata": {},
   "outputs": [],
   "source": [
    "# Feature 2: Perimeter Size (Boundary Length)\n",
    "df['PerimeterSize'] = df['Geometry'].apply(lambda x: x.length)"
   ]
  },
  {
   "cell_type": "code",
   "execution_count": 7,
   "id": "08581046",
   "metadata": {},
   "outputs": [],
   "source": [
    "# Feature 3: Area Efficiency (Space Utilization Ratio)\n",
    "df['AreaEfficiency'] = df['Geometry'].apply(lambda polygon: polygon.area / polygon.convex_hull.area)"
   ]
  },
  {
   "cell_type": "code",
   "execution_count": 8,
   "id": "ab7b8501",
   "metadata": {},
   "outputs": [],
   "source": [
    "# Feature 4: Geometric Symmetry (Shape Consistency Index)\n",
    "df['GeometricSymmetry'] = df['Geometry'].apply(lambda polygon: 4 * polygon.area / (polygon.length ** 2))"
   ]
  },
  {
   "cell_type": "code",
   "execution_count": 9,
   "id": "27a2c73c",
   "metadata": {},
   "outputs": [],
   "source": [
    "# Feature 6: Access Distance (Reachability of Service/Facility)\n",
    "business_locations = gpd.GeoSeries([Point(1, 1), Point(2, 2), Point(3, 3)])\n",
    "df['AccessDistance'] = df['Geometry'].apply(lambda polygon: max(polygon.distance(business_locations)))"
   ]
  },
  {
   "cell_type": "code",
   "execution_count": 10,
   "id": "9ae7de99",
   "metadata": {},
   "outputs": [],
   "source": [
    "# Feature 8: Market Penetration\n",
    "df['MarketPenetration'] = df['MarketData'] / df['Geometry'].apply(lambda polygon: polygon.area)"
   ]
  },
  {
   "cell_type": "code",
   "execution_count": 11,
   "id": "7f3515c0",
   "metadata": {},
   "outputs": [],
   "source": [
    "# Feature 9: Business Clustering (Spatial Concentration Index)\n",
    "df['BusinessClustering'] = len(business_locations) / df['Geometry'].apply(lambda polygon: polygon.area)"
   ]
  },
  {
   "cell_type": "code",
   "execution_count": 12,
   "id": "56ebf1d4",
   "metadata": {},
   "outputs": [
    {
     "data": {
      "text/html": [
       "<div>\n",
       "<style scoped>\n",
       "    .dataframe tbody tr th:only-of-type {\n",
       "        vertical-align: middle;\n",
       "    }\n",
       "\n",
       "    .dataframe tbody tr th {\n",
       "        vertical-align: top;\n",
       "    }\n",
       "\n",
       "    .dataframe thead th {\n",
       "        text-align: right;\n",
       "    }\n",
       "</style>\n",
       "<table border=\"1\" class=\"dataframe\">\n",
       "  <thead>\n",
       "    <tr style=\"text-align: right;\">\n",
       "      <th></th>\n",
       "      <th>ID</th>\n",
       "      <th>Name</th>\n",
       "      <th>Geometry</th>\n",
       "      <th>ServiceCoverage</th>\n",
       "      <th>ResourceDistribution</th>\n",
       "      <th>MarketData</th>\n",
       "      <th>MarketReach</th>\n",
       "      <th>PerimeterSize</th>\n",
       "      <th>AreaEfficiency</th>\n",
       "      <th>GeometricSymmetry</th>\n",
       "      <th>AccessDistance</th>\n",
       "      <th>MarketPenetration</th>\n",
       "      <th>BusinessClustering</th>\n",
       "    </tr>\n",
       "  </thead>\n",
       "  <tbody>\n",
       "    <tr>\n",
       "      <th>0</th>\n",
       "      <td>1</td>\n",
       "      <td>Polygon 1</td>\n",
       "      <td>POLYGON ((0 0, 0 5, 5 5, 5 0, 0 0))</td>\n",
       "      <td>0.90</td>\n",
       "      <td>0.5</td>\n",
       "      <td>1000</td>\n",
       "      <td>25.0</td>\n",
       "      <td>20.0</td>\n",
       "      <td>1.0</td>\n",
       "      <td>0.25</td>\n",
       "      <td>0.000000</td>\n",
       "      <td>40.0</td>\n",
       "      <td>0.12</td>\n",
       "    </tr>\n",
       "    <tr>\n",
       "      <th>1</th>\n",
       "      <td>2</td>\n",
       "      <td>Polygon 2</td>\n",
       "      <td>POLYGON ((2 2, 2 7, 7 7, 7 2, 2 2))</td>\n",
       "      <td>0.80</td>\n",
       "      <td>0.7</td>\n",
       "      <td>1500</td>\n",
       "      <td>25.0</td>\n",
       "      <td>20.0</td>\n",
       "      <td>1.0</td>\n",
       "      <td>0.25</td>\n",
       "      <td>1.414214</td>\n",
       "      <td>60.0</td>\n",
       "      <td>0.12</td>\n",
       "    </tr>\n",
       "    <tr>\n",
       "      <th>2</th>\n",
       "      <td>3</td>\n",
       "      <td>Polygon 3</td>\n",
       "      <td>POLYGON ((3 3, 3 8, 8 8, 8 3, 3 3))</td>\n",
       "      <td>0.95</td>\n",
       "      <td>0.6</td>\n",
       "      <td>2000</td>\n",
       "      <td>25.0</td>\n",
       "      <td>20.0</td>\n",
       "      <td>1.0</td>\n",
       "      <td>0.25</td>\n",
       "      <td>2.828427</td>\n",
       "      <td>80.0</td>\n",
       "      <td>0.12</td>\n",
       "    </tr>\n",
       "  </tbody>\n",
       "</table>\n",
       "</div>"
      ],
      "text/plain": [
       "   ID       Name                             Geometry  ServiceCoverage  \\\n",
       "0   1  Polygon 1  POLYGON ((0 0, 0 5, 5 5, 5 0, 0 0))             0.90   \n",
       "1   2  Polygon 2  POLYGON ((2 2, 2 7, 7 7, 7 2, 2 2))             0.80   \n",
       "2   3  Polygon 3  POLYGON ((3 3, 3 8, 8 8, 8 3, 3 3))             0.95   \n",
       "\n",
       "   ResourceDistribution  MarketData  MarketReach  PerimeterSize  \\\n",
       "0                   0.5        1000         25.0           20.0   \n",
       "1                   0.7        1500         25.0           20.0   \n",
       "2                   0.6        2000         25.0           20.0   \n",
       "\n",
       "   AreaEfficiency  GeometricSymmetry  AccessDistance  MarketPenetration  \\\n",
       "0             1.0               0.25        0.000000               40.0   \n",
       "1             1.0               0.25        1.414214               60.0   \n",
       "2             1.0               0.25        2.828427               80.0   \n",
       "\n",
       "   BusinessClustering  \n",
       "0                0.12  \n",
       "1                0.12  \n",
       "2                0.12  "
      ]
     },
     "metadata": {},
     "output_type": "display_data"
    }
   ],
   "source": [
    "display(df)"
   ]
  },
  {
   "cell_type": "code",
   "execution_count": null,
   "id": "f8d94ac7",
   "metadata": {},
   "outputs": [],
   "source": []
  }
 ],
 "metadata": {
  "kernelspec": {
   "display_name": "Python 3 (ipykernel)",
   "language": "python",
   "name": "python3"
  },
  "language_info": {
   "codemirror_mode": {
    "name": "ipython",
    "version": 3
   },
   "file_extension": ".py",
   "mimetype": "text/x-python",
   "name": "python",
   "nbconvert_exporter": "python",
   "pygments_lexer": "ipython3",
   "version": "3.9.13"
  }
 },
 "nbformat": 4,
 "nbformat_minor": 5
}
