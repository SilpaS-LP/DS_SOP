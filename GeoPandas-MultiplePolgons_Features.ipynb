{
 "cells": [
  {
   "cell_type": "code",
   "execution_count": 1,
   "id": "14fcb0c3",
   "metadata": {},
   "outputs": [],
   "source": [
    "import pandas as pd\n",
    "import geopandas as gpd\n",
    "from shapely.geometry import Polygon, Point"
   ]
  },
  {
   "cell_type": "code",
   "execution_count": 2,
   "id": "8664b289",
   "metadata": {},
   "outputs": [],
   "source": [
    "# Define dummy data for polygons and their respective cities\n",
    "data = {\n",
    "    'City': ['City A', 'City B', 'City C', 'City D', 'City E', 'City D'],\n",
    "    'Latitude': [37.7749, 34.0522, 41.8781, 39.9526, 29.7604, 30.7604],\n",
    "    'Longitude': [-122.4194, -118.2437, -87.6298, -75.1652, -95.3698, -94.3698]\n",
    "}\n",
    "\n",
    "gdf = gpd.GeoDataFrame(data)\n",
    "\n",
    "# Create polygon geometries based on latitude and longitude\n",
    "gdf['geometry'] = gdf.apply(lambda row: Polygon([(row['Longitude'] - 1, row['Latitude'] - 1),\n",
    "                                               (row['Longitude'] + 1, row['Latitude'] - 1),\n",
    "                                               (row['Longitude'] + 1, row['Latitude'] + 1),\n",
    "                                               (row['Longitude'] - 1, row['Latitude'] + 1)]), axis=1)"
   ]
  },
  {
   "cell_type": "code",
   "execution_count": 3,
   "id": "c7536092",
   "metadata": {},
   "outputs": [
    {
     "name": "stderr",
     "output_type": "stream",
     "text": [
      "C:\\Users\\Silpa S\\anaconda3\\lib\\site-packages\\shapely\\set_operations.py:133: RuntimeWarning: invalid value encountered in intersection\n",
      "  return lib.intersection(a, b, **kwargs)\n"
     ]
    }
   ],
   "source": [
    "# Intersection of polygons\n",
    "gdf['Sales Hub'] = gdf.geometry.intersection(gdf.geometry.shift())"
   ]
  },
  {
   "cell_type": "code",
   "execution_count": 4,
   "id": "91f122a4",
   "metadata": {},
   "outputs": [],
   "source": [
    "# Union of polygons\n",
    "gdf['Market Expansion'] = gdf.geometry.unary_union"
   ]
  },
  {
   "cell_type": "code",
   "execution_count": 5,
   "id": "6ae7db4e",
   "metadata": {},
   "outputs": [],
   "source": [
    "# Difference between polygons\n",
    "gdf['Targeted Market'] = gdf.geometry.difference(gdf.geometry.shift())"
   ]
  },
  {
   "cell_type": "code",
   "execution_count": 6,
   "id": "0ea4f82a",
   "metadata": {},
   "outputs": [],
   "source": [
    "# Covers relationship between polygons\n",
    "gdf['Service Coverage'] = gdf.geometry.covers(Polygon([(-95.3698, 29.7604),\n",
    "                                                      (-93.3698, 29.7604),\n",
    "                                                      (-93.3698, 31.7604),\n",
    "                                                      (-95.3698, 31.7604),\n",
    "                                                      (-95.3698, 29.7604)]))"
   ]
  },
  {
   "cell_type": "code",
   "execution_count": 7,
   "id": "309d603c",
   "metadata": {},
   "outputs": [],
   "source": [
    "# Disjoint relationship between polygons\n",
    "gdf['Exclusive Territories'] = gdf.geometry.disjoint(gdf.geometry.shift())"
   ]
  },
  {
   "cell_type": "code",
   "execution_count": 8,
   "id": "128a2ff3",
   "metadata": {},
   "outputs": [],
   "source": [
    "# Intersects relationship between polygons\n",
    "#\"intersects\" detects any type of spatial intersection, including point, boundary, or area intersections.\n",
    "gdf['Cross-Market Opportunities'] = gdf.geometry.intersects(gdf.geometry.shift())"
   ]
  },
  {
   "cell_type": "code",
   "execution_count": 9,
   "id": "678a3984",
   "metadata": {},
   "outputs": [],
   "source": [
    "# Overlaps relationship between polygons\n",
    "# \"Overlaps\" specifically identifies shared areas between polygons.\n",
    "gdf['Shared Market'] = gdf.geometry.overlaps(gdf.geometry.shift())"
   ]
  },
  {
   "cell_type": "code",
   "execution_count": 10,
   "id": "c8239566",
   "metadata": {},
   "outputs": [],
   "source": [
    "# Touches relationship between polygons\n",
    "#\"Touches\" determines if the boundaries of two objects come into contact without crossing or overlapping in their interior areas.\n",
    "gdf['Adjacent Markets'] = gdf.geometry.touches(gdf.geometry.shift())"
   ]
  },
  {
   "cell_type": "code",
   "execution_count": 11,
   "id": "3a890088",
   "metadata": {},
   "outputs": [],
   "source": [
    "# Distance to Nearest neighbors of polygons\n",
    "gdf['Collaboration Opportunities'] = gdf.apply(lambda x: gdf[gdf['City']!=x['City']].geometry.distance(x['geometry']).min(), axis = 1)"
   ]
  },
  {
   "cell_type": "code",
   "execution_count": 12,
   "id": "56f6b526",
   "metadata": {},
   "outputs": [
    {
     "data": {
      "text/html": [
       "<div>\n",
       "<style scoped>\n",
       "    .dataframe tbody tr th:only-of-type {\n",
       "        vertical-align: middle;\n",
       "    }\n",
       "\n",
       "    .dataframe tbody tr th {\n",
       "        vertical-align: top;\n",
       "    }\n",
       "\n",
       "    .dataframe thead th {\n",
       "        text-align: right;\n",
       "    }\n",
       "</style>\n",
       "<table border=\"1\" class=\"dataframe\">\n",
       "  <thead>\n",
       "    <tr style=\"text-align: right;\">\n",
       "      <th></th>\n",
       "      <th>City</th>\n",
       "      <th>Latitude</th>\n",
       "      <th>Longitude</th>\n",
       "      <th>geometry</th>\n",
       "      <th>Sales Hub</th>\n",
       "      <th>Market Expansion</th>\n",
       "      <th>Targeted Market</th>\n",
       "      <th>Service Coverage</th>\n",
       "      <th>Exclusive Territories</th>\n",
       "      <th>Cross-Market Opportunities</th>\n",
       "      <th>Shared Market</th>\n",
       "      <th>Adjacent Markets</th>\n",
       "      <th>Collaboration Opportunities</th>\n",
       "    </tr>\n",
       "  </thead>\n",
       "  <tbody>\n",
       "    <tr>\n",
       "      <th>0</th>\n",
       "      <td>City A</td>\n",
       "      <td>37.7749</td>\n",
       "      <td>-122.4194</td>\n",
       "      <td>POLYGON ((-123.41940 36.77490, -121.41940 36.7...</td>\n",
       "      <td>None</td>\n",
       "      <td>MULTIPOLYGON (((-96.3698 28.7604, -96.3698 30....</td>\n",
       "      <td>None</td>\n",
       "      <td>False</td>\n",
       "      <td>False</td>\n",
       "      <td>False</td>\n",
       "      <td>False</td>\n",
       "      <td>False</td>\n",
       "      <td>2.775133</td>\n",
       "    </tr>\n",
       "    <tr>\n",
       "      <th>1</th>\n",
       "      <td>City B</td>\n",
       "      <td>34.0522</td>\n",
       "      <td>-118.2437</td>\n",
       "      <td>POLYGON ((-119.24370 33.05220, -117.24370 33.0...</td>\n",
       "      <td>POLYGON EMPTY</td>\n",
       "      <td>MULTIPOLYGON (((-96.3698 28.7604, -96.3698 30....</td>\n",
       "      <td>POLYGON ((-119.24370 35.05220, -117.24370 35.0...</td>\n",
       "      <td>False</td>\n",
       "      <td>True</td>\n",
       "      <td>False</td>\n",
       "      <td>False</td>\n",
       "      <td>False</td>\n",
       "      <td>2.775133</td>\n",
       "    </tr>\n",
       "    <tr>\n",
       "      <th>2</th>\n",
       "      <td>City C</td>\n",
       "      <td>41.8781</td>\n",
       "      <td>-87.6298</td>\n",
       "      <td>POLYGON ((-88.62980 40.87810, -86.62980 40.878...</td>\n",
       "      <td>POLYGON EMPTY</td>\n",
       "      <td>MULTIPOLYGON (((-96.3698 28.7604, -96.3698 30....</td>\n",
       "      <td>POLYGON ((-88.62980 42.87810, -86.62980 42.878...</td>\n",
       "      <td>False</td>\n",
       "      <td>True</td>\n",
       "      <td>False</td>\n",
       "      <td>False</td>\n",
       "      <td>False</td>\n",
       "      <td>10.276189</td>\n",
       "    </tr>\n",
       "    <tr>\n",
       "      <th>3</th>\n",
       "      <td>City D</td>\n",
       "      <td>39.9526</td>\n",
       "      <td>-75.1652</td>\n",
       "      <td>POLYGON ((-76.16520 38.95260, -74.16520 38.952...</td>\n",
       "      <td>POLYGON EMPTY</td>\n",
       "      <td>MULTIPOLYGON (((-96.3698 28.7604, -96.3698 30....</td>\n",
       "      <td>POLYGON ((-76.16520 40.95260, -74.16520 40.952...</td>\n",
       "      <td>False</td>\n",
       "      <td>True</td>\n",
       "      <td>False</td>\n",
       "      <td>False</td>\n",
       "      <td>False</td>\n",
       "      <td>10.464600</td>\n",
       "    </tr>\n",
       "    <tr>\n",
       "      <th>4</th>\n",
       "      <td>City E</td>\n",
       "      <td>29.7604</td>\n",
       "      <td>-95.3698</td>\n",
       "      <td>POLYGON ((-96.36980 28.76040, -94.36980 28.760...</td>\n",
       "      <td>POLYGON EMPTY</td>\n",
       "      <td>MULTIPOLYGON (((-96.3698 28.7604, -96.3698 30....</td>\n",
       "      <td>POLYGON ((-96.36980 30.76040, -94.36980 30.760...</td>\n",
       "      <td>False</td>\n",
       "      <td>True</td>\n",
       "      <td>False</td>\n",
       "      <td>False</td>\n",
       "      <td>False</td>\n",
       "      <td>0.000000</td>\n",
       "    </tr>\n",
       "    <tr>\n",
       "      <th>5</th>\n",
       "      <td>City D</td>\n",
       "      <td>30.7604</td>\n",
       "      <td>-94.3698</td>\n",
       "      <td>POLYGON ((-95.36980 29.76040, -93.36980 29.760...</td>\n",
       "      <td>POLYGON ((-95.36980 29.76040, -95.36980 30.760...</td>\n",
       "      <td>MULTIPOLYGON (((-96.3698 28.7604, -96.3698 30....</td>\n",
       "      <td>POLYGON ((-95.36980 31.76040, -93.36980 31.760...</td>\n",
       "      <td>True</td>\n",
       "      <td>False</td>\n",
       "      <td>True</td>\n",
       "      <td>True</td>\n",
       "      <td>False</td>\n",
       "      <td>0.000000</td>\n",
       "    </tr>\n",
       "  </tbody>\n",
       "</table>\n",
       "</div>"
      ],
      "text/plain": [
       "     City  Latitude  Longitude  \\\n",
       "0  City A   37.7749  -122.4194   \n",
       "1  City B   34.0522  -118.2437   \n",
       "2  City C   41.8781   -87.6298   \n",
       "3  City D   39.9526   -75.1652   \n",
       "4  City E   29.7604   -95.3698   \n",
       "5  City D   30.7604   -94.3698   \n",
       "\n",
       "                                            geometry  \\\n",
       "0  POLYGON ((-123.41940 36.77490, -121.41940 36.7...   \n",
       "1  POLYGON ((-119.24370 33.05220, -117.24370 33.0...   \n",
       "2  POLYGON ((-88.62980 40.87810, -86.62980 40.878...   \n",
       "3  POLYGON ((-76.16520 38.95260, -74.16520 38.952...   \n",
       "4  POLYGON ((-96.36980 28.76040, -94.36980 28.760...   \n",
       "5  POLYGON ((-95.36980 29.76040, -93.36980 29.760...   \n",
       "\n",
       "                                           Sales Hub  \\\n",
       "0                                               None   \n",
       "1                                      POLYGON EMPTY   \n",
       "2                                      POLYGON EMPTY   \n",
       "3                                      POLYGON EMPTY   \n",
       "4                                      POLYGON EMPTY   \n",
       "5  POLYGON ((-95.36980 29.76040, -95.36980 30.760...   \n",
       "\n",
       "                                    Market Expansion  \\\n",
       "0  MULTIPOLYGON (((-96.3698 28.7604, -96.3698 30....   \n",
       "1  MULTIPOLYGON (((-96.3698 28.7604, -96.3698 30....   \n",
       "2  MULTIPOLYGON (((-96.3698 28.7604, -96.3698 30....   \n",
       "3  MULTIPOLYGON (((-96.3698 28.7604, -96.3698 30....   \n",
       "4  MULTIPOLYGON (((-96.3698 28.7604, -96.3698 30....   \n",
       "5  MULTIPOLYGON (((-96.3698 28.7604, -96.3698 30....   \n",
       "\n",
       "                                     Targeted Market  Service Coverage  \\\n",
       "0                                               None             False   \n",
       "1  POLYGON ((-119.24370 35.05220, -117.24370 35.0...             False   \n",
       "2  POLYGON ((-88.62980 42.87810, -86.62980 42.878...             False   \n",
       "3  POLYGON ((-76.16520 40.95260, -74.16520 40.952...             False   \n",
       "4  POLYGON ((-96.36980 30.76040, -94.36980 30.760...             False   \n",
       "5  POLYGON ((-95.36980 31.76040, -93.36980 31.760...              True   \n",
       "\n",
       "   Exclusive Territories  Cross-Market Opportunities  Shared Market  \\\n",
       "0                  False                       False          False   \n",
       "1                   True                       False          False   \n",
       "2                   True                       False          False   \n",
       "3                   True                       False          False   \n",
       "4                   True                       False          False   \n",
       "5                  False                        True           True   \n",
       "\n",
       "   Adjacent Markets  Collaboration Opportunities  \n",
       "0             False                     2.775133  \n",
       "1             False                     2.775133  \n",
       "2             False                    10.276189  \n",
       "3             False                    10.464600  \n",
       "4             False                     0.000000  \n",
       "5             False                     0.000000  "
      ]
     },
     "execution_count": 12,
     "metadata": {},
     "output_type": "execute_result"
    }
   ],
   "source": [
    "gdf"
   ]
  },
  {
   "cell_type": "code",
   "execution_count": null,
   "id": "6eff43be",
   "metadata": {},
   "outputs": [],
   "source": []
  }
 ],
 "metadata": {
  "kernelspec": {
   "display_name": "Python 3 (ipykernel)",
   "language": "python",
   "name": "python3"
  },
  "language_info": {
   "codemirror_mode": {
    "name": "ipython",
    "version": 3
   },
   "file_extension": ".py",
   "mimetype": "text/x-python",
   "name": "python",
   "nbconvert_exporter": "python",
   "pygments_lexer": "ipython3",
   "version": "3.9.13"
  }
 },
 "nbformat": 4,
 "nbformat_minor": 5
}
